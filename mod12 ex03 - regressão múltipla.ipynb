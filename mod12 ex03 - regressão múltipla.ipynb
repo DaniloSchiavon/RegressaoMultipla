{
 "cells": [
  {
   "cell_type": "markdown",
   "metadata": {},
   "source": [
    "# Regressão 01 - tarefa 03 - transformações em X e Y"
   ]
  },
  {
   "cell_type": "markdown",
   "metadata": {},
   "source": [
    "Carregue os pacotes necessários e a base de gorjetas.\n",
    "\n",
    "### I. Modelo no valor da gorjeta\n",
    "\n",
    "1. Crie a matriz de design (e a matriz y) utilizando o Patsy, para um modelo em ```tip```, explicada por ```sex, smoker, diner e net_bill```.  \n",
    "2. Remova as variáveis não significantes.  \n",
    "3. observe o gráfico de resíduos em função de ```net_bill```  \n",
    "4. teste transformar ```net_bill``` no log e um polinômio. Escolha o melhor modelo."
   ]
  },
  {
   "cell_type": "code",
   "execution_count": 14,
   "metadata": {},
   "outputs": [
    {
     "data": {
      "text/html": [
       "<div>\n",
       "<style scoped>\n",
       "    .dataframe tbody tr th:only-of-type {\n",
       "        vertical-align: middle;\n",
       "    }\n",
       "\n",
       "    .dataframe tbody tr th {\n",
       "        vertical-align: top;\n",
       "    }\n",
       "\n",
       "    .dataframe thead th {\n",
       "        text-align: right;\n",
       "    }\n",
       "</style>\n",
       "<table border=\"1\" class=\"dataframe\">\n",
       "  <thead>\n",
       "    <tr style=\"text-align: right;\">\n",
       "      <th></th>\n",
       "      <th>total_bill</th>\n",
       "      <th>tip</th>\n",
       "      <th>sex</th>\n",
       "      <th>smoker</th>\n",
       "      <th>day</th>\n",
       "      <th>time</th>\n",
       "      <th>size</th>\n",
       "      <th>net_bill</th>\n",
       "      <th>tip_pct</th>\n",
       "    </tr>\n",
       "  </thead>\n",
       "  <tbody>\n",
       "    <tr>\n",
       "      <th>0</th>\n",
       "      <td>16.99</td>\n",
       "      <td>1.01</td>\n",
       "      <td>Female</td>\n",
       "      <td>No</td>\n",
       "      <td>Sun</td>\n",
       "      <td>Dinner</td>\n",
       "      <td>2</td>\n",
       "      <td>15.98</td>\n",
       "      <td>0.063204</td>\n",
       "    </tr>\n",
       "    <tr>\n",
       "      <th>1</th>\n",
       "      <td>10.34</td>\n",
       "      <td>1.66</td>\n",
       "      <td>Male</td>\n",
       "      <td>No</td>\n",
       "      <td>Sun</td>\n",
       "      <td>Dinner</td>\n",
       "      <td>3</td>\n",
       "      <td>8.68</td>\n",
       "      <td>0.191244</td>\n",
       "    </tr>\n",
       "    <tr>\n",
       "      <th>2</th>\n",
       "      <td>21.01</td>\n",
       "      <td>3.50</td>\n",
       "      <td>Male</td>\n",
       "      <td>No</td>\n",
       "      <td>Sun</td>\n",
       "      <td>Dinner</td>\n",
       "      <td>3</td>\n",
       "      <td>17.51</td>\n",
       "      <td>0.199886</td>\n",
       "    </tr>\n",
       "    <tr>\n",
       "      <th>3</th>\n",
       "      <td>23.68</td>\n",
       "      <td>3.31</td>\n",
       "      <td>Male</td>\n",
       "      <td>No</td>\n",
       "      <td>Sun</td>\n",
       "      <td>Dinner</td>\n",
       "      <td>2</td>\n",
       "      <td>20.37</td>\n",
       "      <td>0.162494</td>\n",
       "    </tr>\n",
       "    <tr>\n",
       "      <th>4</th>\n",
       "      <td>24.59</td>\n",
       "      <td>3.61</td>\n",
       "      <td>Female</td>\n",
       "      <td>No</td>\n",
       "      <td>Sun</td>\n",
       "      <td>Dinner</td>\n",
       "      <td>4</td>\n",
       "      <td>20.98</td>\n",
       "      <td>0.172069</td>\n",
       "    </tr>\n",
       "  </tbody>\n",
       "</table>\n",
       "</div>"
      ],
      "text/plain": [
       "   total_bill   tip     sex smoker  day    time  size  net_bill   tip_pct\n",
       "0       16.99  1.01  Female     No  Sun  Dinner     2     15.98  0.063204\n",
       "1       10.34  1.66    Male     No  Sun  Dinner     3      8.68  0.191244\n",
       "2       21.01  3.50    Male     No  Sun  Dinner     3     17.51  0.199886\n",
       "3       23.68  3.31    Male     No  Sun  Dinner     2     20.37  0.162494\n",
       "4       24.59  3.61  Female     No  Sun  Dinner     4     20.98  0.172069"
      ]
     },
     "execution_count": 14,
     "metadata": {},
     "output_type": "execute_result"
    }
   ],
   "source": [
    "import pandas as pd\n",
    "import matplotlib.pyplot as plt\n",
    "import seaborn as sns\n",
    "from seaborn import load_dataset\n",
    "import numpy as np\n",
    "import statsmodels.formula.api as smf\n",
    "\n",
    "# Dados da gorjeta e seu tratamento:\n",
    "tips = sns.load_dataset(\"tips\")\n",
    "tips['net_bill'] = tips['total_bill'] - tips['tip']\n",
    "tips['tip_pct'] = tips['tip'] / tips['net_bill']\n",
    "\n",
    "# Exibe os dados\n",
    "tips.head()"
   ]
  },
  {
   "cell_type": "code",
   "execution_count": 30,
   "metadata": {},
   "outputs": [
    {
     "name": "stdout",
     "output_type": "stream",
     "text": [
      "                            OLS Regression Results                            \n",
      "==============================================================================\n",
      "Dep. Variable:                    tip   R-squared:                       0.338\n",
      "Model:                            OLS   Adj. R-squared:                  0.321\n",
      "Method:                 Least Squares   F-statistic:                     20.14\n",
      "Date:                Tue, 20 Aug 2024   Prob (F-statistic):           5.30e-19\n",
      "Time:                        18:46:56   Log-Likelihood:                -374.68\n",
      "No. Observations:                 244   AIC:                             763.4\n",
      "Df Residuals:                     237   BIC:                             787.8\n",
      "Df Model:                           6                                         \n",
      "Covariance Type:            nonrobust                                         \n",
      "=================================================================================\n",
      "                    coef    std err          t      P>|t|      [0.025      0.975]\n",
      "---------------------------------------------------------------------------------\n",
      "Intercept         1.2017      0.258      4.652      0.000       0.693       1.711\n",
      "sex[T.Female]     0.0078      0.158      0.049      0.961      -0.303       0.318\n",
      "smoker[T.No]      0.1185      0.160      0.741      0.460      -0.197       0.434\n",
      "day[T.Fri]        0.0737      0.310      0.238      0.812      -0.538       0.685\n",
      "day[T.Sat]       -0.0039      0.195     -0.020      0.984      -0.389       0.381\n",
      "day[T.Sun]        0.1611      0.202      0.799      0.425      -0.236       0.559\n",
      "net_bill          0.0992      0.009     10.585      0.000       0.081       0.118\n",
      "==============================================================================\n",
      "Omnibus:                       37.825   Durbin-Watson:                   2.120\n",
      "Prob(Omnibus):                  0.000   Jarque-Bera (JB):               69.659\n",
      "Skew:                           0.817   Prob(JB):                     7.48e-16\n",
      "Kurtosis:                       5.045   Cond. No.                         97.9\n",
      "==============================================================================\n",
      "\n",
      "Notes:\n",
      "[1] Standard Errors assume that the covariance matrix of the errors is correctly specified.\n"
     ]
    }
   ],
   "source": [
    "# Criando a matrix\n",
    "model = smf.ols('tip ~ sex + smoker + day + net_bill', data=tips).fit()\n",
    "print(model.summary())"
   ]
  },
  {
   "cell_type": "code",
   "execution_count": 36,
   "metadata": {},
   "outputs": [],
   "source": [
    "# Remover variáveis não significantes (p-value > 0.05\n",
    "model_new = smf.ols('tip ~ C(day) + net_bill', data=tips).fit()"
   ]
  },
  {
   "cell_type": "code",
   "execution_count": 38,
   "metadata": {},
   "outputs": [
    {
     "data": {
      "image/png": "[encoded data removed]",
      "text/plain": [
       "<Figure size 800x600 with 1 Axes>"
      ]
     },
     "metadata": {},
     "output_type": "display_data"
    }
   ],
   "source": [
    "# Gráfico\n",
    "plt.figure(figsize=(8, 6))\n",
    "sns.scatterplot(x=tips['net_bill'], y=model.resid)\n",
    "plt.title('Resíduos em Função de Conta Líquida')\n",
    "plt.xlabel('Conta Líquida')\n",
    "plt.ylabel('Resíduos')\n",
    "plt.show()"
   ]
  },
  {
   "cell_type": "code",
   "execution_count": 48,
   "metadata": {},
   "outputs": [
    {
     "name": "stdout",
     "output_type": "stream",
     "text": [
      "                            OLS Regression Results                            \n",
      "==============================================================================\n",
      "Dep. Variable:                    tip   R-squared:                       0.299\n",
      "Model:                            OLS   Adj. R-squared:                  0.281\n",
      "Method:                 Least Squares   F-statistic:                     16.83\n",
      "Date:                Tue, 20 Aug 2024   Prob (F-statistic):           3.61e-16\n",
      "Time:                        18:57:30   Log-Likelihood:                -381.64\n",
      "No. Observations:                 244   AIC:                             777.3\n",
      "Df Residuals:                     237   BIC:                             801.8\n",
      "Df Model:                           6                                         \n",
      "Covariance Type:            nonrobust                                         \n",
      "====================================================================================\n",
      "                       coef    std err          t      P>|t|      [0.025      0.975]\n",
      "------------------------------------------------------------------------------------\n",
      "Intercept           -1.2944      0.484     -2.675      0.008      -2.248      -0.341\n",
      "sex[T.Female]        0.0065      0.162      0.040      0.968      -0.313       0.326\n",
      "smoker[T.No]         0.0169      0.164      0.103      0.918      -0.306       0.340\n",
      "day[T.Fri]           0.0612      0.319      0.192      0.848      -0.568       0.690\n",
      "day[T.Sat]           0.0108      0.201      0.054      0.957      -0.385       0.407\n",
      "day[T.Sun]           0.2054      0.207      0.991      0.323      -0.203       0.614\n",
      "np.log(net_bill)     1.5517      0.161      9.628      0.000       1.234       1.869\n",
      "==============================================================================\n",
      "Omnibus:                       75.093   Durbin-Watson:                   2.046\n",
      "Prob(Omnibus):                  0.000   Jarque-Bera (JB):              228.220\n",
      "Skew:                           1.318   Prob(JB):                     2.77e-50\n",
      "Kurtosis:                       6.938   Cond. No.                         21.2\n",
      "==============================================================================\n",
      "\n",
      "Notes:\n",
      "[1] Standard Errors assume that the covariance matrix of the errors is correctly specified.\n"
     ]
    }
   ],
   "source": [
    "# Modelo com log de net_bill\n",
    "model_log = smf.ols('tip ~ sex + smoker + day + np.log(net_bill)', data=tips).fit()\n",
    "print(model_log.summary())\n",
    "\n",
    "# Modelo com polinômio de net_bill\n",
    "net_bill_poly = np.polyval(np.polyfit(tips['net_bill'], tips['tip'], 2), tips['net_bill'])\n",
    "tips['net_bill_poly'] = net_bill_poly\n",
    "model_poly = smf.ols('tip ~ sex + smoker + day + net_bill_poly', data=tips).fit()"
   ]
  },
  {
   "cell_type": "markdown",
   "metadata": {},
   "source": [
    "* O melhor modelo seria o primeiro, pois o R² é maior."
   ]
  },
  {
   "cell_type": "markdown",
   "metadata": {},
   "source": [
    "### II. Modelo no valor do percentual da gorjeta\n",
    "\n",
    "1. Crie a matriz de design (e a matriz y) utilizando o Patsy, para um modelo no log de ```tip```, explicado por ```sex, smoker, diner e net_bill```.\n",
    "2. Remova as variáveis não significantes.\n",
    "3. Observe o gráfico de resíduos em função de ```net_bill```\n",
    "4. Teste transformar ```net_bill``` no log e um polinômio. Escolha o melhor modelo.\n",
    "5. Do modelo final deste item, calcule o $R^2$ na escala de ```tip``` (sem o log). Compare com o modelo do item 1. Qual tem melhor coeficiente de determinação?"
   ]
  },
  {
   "cell_type": "code",
   "execution_count": 67,
   "metadata": {},
   "outputs": [
    {
     "name": "stdout",
     "output_type": "stream",
     "text": [
      "Intercept        8.585271e-08\n",
      "sex[T.Female]    8.281514e-01\n",
      "smoker[T.No]     5.636777e-01\n",
      "day[T.Fri]       7.618940e-01\n",
      "day[T.Sat]       7.152932e-01\n",
      "day[T.Sun]       2.304829e-01\n",
      "net_bill         3.688075e-20\n",
      "dtype: float64\n"
     ]
    }
   ],
   "source": [
    "import patsy\n",
    "\n",
    "# Criando a matriz através dp Patsy\n",
    "y, X = patsy.dmatrices('np.log(tip) ~ sex + smoker + day + net_bill', data=tips, return_type='dataframe')\n",
    "model = sm.OLS(y, X).fit()\n",
    "print(model.pvalues)"
   ]
  },
  {
   "cell_type": "code",
   "execution_count": 87,
   "metadata": {},
   "outputs": [],
   "source": [
    "# Removendo variáveis não significativas\n",
    "y, X = patsy.dmatrices('tip ~ day + net_bill', tips)"
   ]
  },
  {
   "cell_type": "code",
   "execution_count": 89,
   "metadata": {},
   "outputs": [
    {
     "data": {
      "image/png": "[encoded data removed]",
      "text/plain": [
       "<Figure size 640x480 with 1 Axes>"
      ]
     },
     "metadata": {},
     "output_type": "display_data"
    }
   ],
   "source": [
    "modelo = sm.OLS(y, X).fit()\n",
    "residuos = modelo.resid\n",
    "plt.scatter(X[:, -1], residuos)\n",
    "plt.xlabel('net_bill')\n",
    "plt.ylabel('Resíduos')\n",
    "plt.show()"
   ]
  },
  {
   "cell_type": "code",
   "execution_count": 91,
   "metadata": {},
   "outputs": [
    {
     "name": "stdout",
     "output_type": "stream",
     "text": [
      "                            OLS Regression Results                            \n",
      "==============================================================================\n",
      "Dep. Variable:                    tip   R-squared:                       0.299\n",
      "Model:                            OLS   Adj. R-squared:                  0.287\n",
      "Method:                 Least Squares   F-statistic:                     25.46\n",
      "Date:                Tue, 20 Aug 2024   Prob (F-statistic):           1.40e-17\n",
      "Time:                        19:34:35   Log-Likelihood:                -381.65\n",
      "No. Observations:                 244   AIC:                             773.3\n",
      "Df Residuals:                     239   BIC:                             790.8\n",
      "Df Model:                           4                                         \n",
      "Covariance Type:            nonrobust                                         \n",
      "====================================================================================\n",
      "                       coef    std err          t      P>|t|      [0.025      0.975]\n",
      "------------------------------------------------------------------------------------\n",
      "Intercept           -1.2742      0.441     -2.889      0.004      -2.143      -0.405\n",
      "day[T.Fri]           0.0521      0.306      0.170      0.865      -0.552       0.656\n",
      "day[T.Sat]           0.0063      0.195      0.032      0.974      -0.379       0.391\n",
      "day[T.Sun]           0.2043      0.202      1.011      0.313      -0.194       0.602\n",
      "np.log(net_bill)     1.5499      0.159      9.739      0.000       1.236       1.863\n",
      "==============================================================================\n",
      "Omnibus:                       74.537   Durbin-Watson:                   2.048\n",
      "Prob(Omnibus):                  0.000   Jarque-Bera (JB):              225.118\n",
      "Skew:                           1.310   Prob(JB):                     1.31e-49\n",
      "Kurtosis:                       6.909   Cond. No.                         18.8\n",
      "==============================================================================\n",
      "\n",
      "Notes:\n",
      "[1] Standard Errors assume that the covariance matrix of the errors is correctly specified.\n"
     ]
    }
   ],
   "source": [
    "y, X = patsy.dmatrices('tip ~ day + np.log(net_bill)', tips)\n",
    "modelo_log = sm.OLS(y, X).fit()\n",
    "print(modelo_log.summary())"
   ]
  },
  {
   "cell_type": "code",
   "execution_count": 93,
   "metadata": {},
   "outputs": [
    {
     "name": "stdout",
     "output_type": "stream",
     "text": [
      "                            OLS Regression Results                            \n",
      "==============================================================================\n",
      "Dep. Variable:                    tip   R-squared:                       0.306\n",
      "Model:                            OLS   Adj. R-squared:                  0.294\n",
      "Method:                 Least Squares   F-statistic:                     26.34\n",
      "Date:                Tue, 20 Aug 2024   Prob (F-statistic):           4.19e-18\n",
      "Time:                        19:34:44   Log-Likelihood:                -380.40\n",
      "No. Observations:                 244   AIC:                             770.8\n",
      "Df Residuals:                     239   BIC:                             788.3\n",
      "Df Model:                           4                                         \n",
      "Covariance Type:            nonrobust                                         \n",
      "====================================================================================\n",
      "                       coef    std err          t      P>|t|      [0.025      0.975]\n",
      "------------------------------------------------------------------------------------\n",
      "Intercept            2.2017      0.158     13.899      0.000       1.890       2.514\n",
      "day[T.Fri]          -0.0205      0.305     -0.067      0.946      -0.621       0.580\n",
      "day[T.Sat]          -0.0004      0.194     -0.002      0.998      -0.383       0.383\n",
      "day[T.Sun]           0.2133      0.201      1.062      0.289      -0.182       0.609\n",
      "I(net_bill ** 2)     0.0021      0.000      9.914      0.000       0.002       0.003\n",
      "==============================================================================\n",
      "Omnibus:                       23.766   Durbin-Watson:                   2.188\n",
      "Prob(Omnibus):                  0.000   Jarque-Bera (JB):               33.811\n",
      "Skew:                           0.630   Prob(JB):                     4.55e-08\n",
      "Kurtosis:                       4.318   Cond. No.                     2.34e+03\n",
      "==============================================================================\n",
      "\n",
      "Notes:\n",
      "[1] Standard Errors assume that the covariance matrix of the errors is correctly specified.\n",
      "[2] The condition number is large, 2.34e+03. This might indicate that there are\n",
      "strong multicollinearity or other numerical problems.\n"
     ]
    }
   ],
   "source": [
    "y, X = patsy.dmatrices('tip ~ day + I(net_bill**2)', tips)\n",
    "modelo_poly = sm.OLS(y, X).fit()\n",
    "print(modelo_poly.summary())"
   ]
  },
  {
   "cell_type": "code",
   "execution_count": 124,
   "metadata": {},
   "outputs": [
    {
     "data": {
      "image/png": "[encoded data removed]",
      "text/plain": [
       "<Figure size 640x480 with 1 Axes>"
      ]
     },
     "metadata": {},
     "output_type": "display_data"
    }
   ],
   "source": [
    "import matplotlib.pyplot as plt\n",
    "\n",
    "plt.scatter(tips['tip'], y_pred_final)\n",
    "plt.xlabel('Valor real')\n",
    "plt.ylabel('Valor predito')\n",
    "plt.show()"
   ]
  },
  {
   "cell_type": "code",
   "execution_count": 126,
   "metadata": {},
   "outputs": [
    {
     "name": "stdout",
     "output_type": "stream",
     "text": [
      "Média dos valores reais: 2.99827868852459\n",
      "Desvio padrão dos valores reais: 1.3807999538298958\n",
      "Média dos valores preditos: 26.25061451263765\n",
      "Desvio padrão dos valores preditos: 20.602039942713382\n"
     ]
    }
   ],
   "source": [
    "print(\"Média dos valores reais:\", np.mean(tips['tip']))\n",
    "print(\"Desvio padrão dos valores reais:\", np.std(tips['tip']))\n",
    "print(\"Média dos valores preditos:\", np.mean(y_pred_final))\n",
    "print(\"Desvio padrão dos valores preditos:\", np.std(y_pred_final))"
   ]
  },
  {
   "cell_type": "markdown",
   "metadata": {},
   "source": [
    "### Como o modelo está em 'overfitting' e predizendo valores muito altos, vou ajustar utilizando o 'Lasso Regression'."
   ]
  },
  {
   "cell_type": "code",
   "execution_count": 131,
   "metadata": {},
   "outputs": [
    {
     "name": "stdout",
     "output_type": "stream",
     "text": [
      "R² do modelo final: 0.29635903339296343\n"
     ]
    }
   ],
   "source": [
    "from sklearn.linear_model import Lasso\n",
    "from sklearn.preprocessing import StandardScaler\n",
    "\n",
    "# Escalar as variáveis X\n",
    "scaler = StandardScaler()\n",
    "X_scaled = scaler.fit_transform(X)\n",
    "\n",
    "# Definir o modelo com L1 regularization\n",
    "model = Lasso(alpha=0.1)\n",
    "\n",
    "# Treinar o modelo com os valores escalados de X e os valores originais de y\n",
    "model.fit(X_scaled, tips['tip'])\n",
    "\n",
    "# Prever os valores\n",
    "y_pred_final = model.predict(X_scaled)\n",
    "\n",
    "# Calcular o R²\n",
    "r2 = model.score(X_scaled, tips['tip'])\n",
    "print(\"R² do modelo final:\", r2)"
   ]
  },
  {
   "cell_type": "code",
   "execution_count": 139,
   "metadata": {},
   "outputs": [
    {
     "name": "stdout",
     "output_type": "stream",
     "text": [
      "R² do modelo do item 1: 0.29880400724013134\n"
     ]
    }
   ],
   "source": [
    "# Resultado do item 01\n",
    "print(\"R² do modelo do item 1:\", model_log.rsquared)"
   ]
  },
  {
   "cell_type": "code",
   "execution_count": 135,
   "metadata": {},
   "outputs": [
    {
     "name": "stdout",
     "output_type": "stream",
     "text": [
      "O modelo do item 1 tem melhor coeficiente de determinação.\n"
     ]
    }
   ],
   "source": [
    "if r2_final_tip > model_log.rsquared:\n",
    "    print(\"O modelo final tem melhor coeficiente de determinação.\")\n",
    "else:\n",
    "    print(\"O modelo do item 1 tem melhor coeficiente de determinação.\")"
   ]
  },
  {
   "cell_type": "markdown",
   "metadata": {},
   "source": [
    "### III. Previsão de renda\n",
    "\n",
    "Vamos trabalhar a base que você vai usar no projeto do final deste ciclo.\n",
    "\n",
    "Carregue a base ```previsao_de_renda.csv```.\n",
    "\n",
    "|variavel|descrição|\n",
    "|-|-|\n",
    "|data_ref                | Data de referência de coleta das variáveis |\n",
    "|index                   | Código de identificação do cliente|\n",
    "|sexo                    | Sexo do cliente|\n",
    "|posse_de_veiculo        | Indica se o cliente possui veículo|\n",
    "|posse_de_imovel         | Indica se o cliente possui imóvel|\n",
    "|qtd_filhos              | Quantidade de filhos do cliente|\n",
    "|tipo_renda              | Tipo de renda do cliente|\n",
    "|educacao                | Grau de instrução do cliente|\n",
    "|estado_civil            | Estado civil do cliente|\n",
    "|tipo_residencia         | Tipo de residência do cliente (própria, alugada etc)|\n",
    "|idade                   | Idade do cliente|\n",
    "|tempo_emprego           | Tempo no emprego atual|\n",
    "|qt_pessoas_residencia   | Quantidade de pessoas que moram na residência|\n",
    "|renda                   | Renda em reais|\n",
    "\n",
    "1. Ajuste um modelo de regressão linear simples para explicar ```renda``` como variável resposta, por ```tempo_emprego``` como variável explicativa. Observe que há muitas observações nessa tabela. Utilize os recursos que achar necessário.\n",
    "2. Faça uma análise de resíduos. Com os recursos vistos neste módulo, como você melhoraria esta regressão?\n",
    "3. Ajuste um modelo de regressão linear múltipla para explicar ```renda``` (ou uma transformação de ```renda```) de acordo com as demais variáveis.\n",
    "4. Remova as variáveis não significantes e ajuste novamente o modelo. Interprete os parâmetros\n",
    "5. Faça uma análise de resíduos. Avalie a qualidade do ajuste."
   ]
  },
  {
   "cell_type": "code",
   "execution_count": 51,
   "metadata": {},
   "outputs": [],
   "source": [
    "import pandas as pd\n",
    "import numpy as np\n",
    "from sklearn.model_selection import train_test_split\n",
    "from sklearn.linear_model import LinearRegression\n",
    "from sklearn.metrics import mean_squared_error\n",
    "from sklearn.preprocessing import StandardScaler\n",
    "\n",
    "# Carregue a base de dados\n",
    "df = pd.read_csv('G:\\Downloads\\previsao_de_renda.csv')"
   ]
  },
  {
   "cell_type": "code",
   "execution_count": 42,
   "metadata": {},
   "outputs": [
    {
     "name": "stdout",
     "output_type": "stream",
     "text": [
      "Unnamed: 0                  0\n",
      "data_ref                    0\n",
      "id_cliente                  0\n",
      "sexo                        0\n",
      "posse_de_veiculo            0\n",
      "posse_de_imovel             0\n",
      "qtd_filhos                  0\n",
      "tipo_renda                  0\n",
      "educacao                    0\n",
      "estado_civil                0\n",
      "tipo_residencia             0\n",
      "idade                       0\n",
      "tempo_emprego            2573\n",
      "qt_pessoas_residencia       0\n",
      "renda                       0\n",
      "dtype: int64\n"
     ]
    }
   ],
   "source": [
    "print(df.isnull().sum())"
   ]
  },
  {
   "cell_type": "code",
   "execution_count": 90,
   "metadata": {},
   "outputs": [
    {
     "name": "stdout",
     "output_type": "stream",
     "text": [
      "Erro quadrático médio (MSE): 0.61\n"
     ]
    }
   ],
   "source": [
    "# Substituindo os valores faltantes pela mediana\n",
    "df['tempo_emprego'] = df['tempo_emprego'].fillna(df['tempo_emprego'].median())\n",
    "df['renda'] = df['renda'].fillna(df['renda'].median())\n",
    "\n",
    "# Criando o objeto StandardScaler\n",
    "scaler = StandardScaler()\n",
    "\n",
    "# Normalize os dados\n",
    "df[['tempo_emprego', 'renda']] = scaler.fit_transform(df[['tempo_emprego', 'renda']])\n",
    "\n",
    "# Dividindo o conjunto de dados em variáveis explicativas (X) e variável resposta (y)\n",
    "X = df[['tempo_emprego']]\n",
    "y = df['renda']\n",
    "\n",
    "# Dividindo o conjunto de dados em treinamento e teste\n",
    "X_train, X_test, y_train, y_test = train_test_split(X, y, test_size=0.2, random_state=42)\n",
    "\n",
    "# Crie um modelo de regressão linear\n",
    "model = LinearRegression()\n",
    "\n",
    "# Modelo com os dados de treinamento\n",
    "model.fit(X_train, y_train)\n",
    "\n",
    "# Previsões com os dados de teste\n",
    "y_pred = model.predict(X_test)\n",
    "\n",
    "# Erro quadrático médio (MSE)\n",
    "mse = mean_squared_error(y_test, y_pred)\n",
    "\n",
    "print(f'Erro quadrático médio (MSE): {mse:.2f}')"
   ]
  },
  {
   "cell_type": "markdown",
   "metadata": {},
   "source": [
    "* Como a base possui dados faltantes, coloquei a mediana da variável para substituirmos os dados faltantes e não ter a necessidade de excluir todas as linhas que apresentam dados faltantes."
   ]
  },
  {
   "cell_type": "code",
   "execution_count": 100,
   "metadata": {},
   "outputs": [
    {
     "name": "stdout",
     "output_type": "stream",
     "text": [
      "                            OLS Regression Results                            \n",
      "==============================================================================\n",
      "Dep. Variable:                  renda   R-squared:                       0.149\n",
      "Model:                            OLS   Adj. R-squared:                  0.149\n",
      "Method:                 Least Squares   F-statistic:                     2633.\n",
      "Date:                Wed, 21 Aug 2024   Prob (F-statistic):               0.00\n",
      "Time:                        14:42:00   Log-Likelihood:                -20071.\n",
      "No. Observations:               15000   AIC:                         4.015e+04\n",
      "Df Residuals:                   14998   BIC:                         4.016e+04\n",
      "Df Model:                           1                                         \n",
      "Covariance Type:            nonrobust                                         \n",
      "=================================================================================\n",
      "                    coef    std err          t      P>|t|      [0.025      0.975]\n",
      "---------------------------------------------------------------------------------\n",
      "const          -1.18e-17      0.008  -1.57e-15      1.000      -0.015       0.015\n",
      "tempo_emprego     0.3865      0.008     51.317      0.000       0.372       0.401\n",
      "==============================================================================\n",
      "Omnibus:                    21114.986   Durbin-Watson:                   2.020\n",
      "Prob(Omnibus):                  0.000   Jarque-Bera (JB):         11579595.537\n",
      "Skew:                           8.074   Prob(JB):                         0.00\n",
      "Kurtosis:                     138.154   Cond. No.                         1.00\n",
      "==============================================================================\n",
      "\n",
      "Notes:\n",
      "[1] Standard Errors assume that the covariance matrix of the errors is correctly specified.\n"
     ]
    }
   ],
   "source": [
    "import statsmodels.api as sm\n",
    "\n",
    "# Defina a variável resposta (renda) e a variável explicativa (tempo_emprego)\n",
    "y = df['renda']\n",
    "x = df['tempo_emprego']\n",
    "\n",
    "# Adicione uma constante (intercept) à variável explicativa\n",
    "x = sm.add_constant(x)\n",
    "\n",
    "# Ajuste o modelo de regressão linear simples\n",
    "model = sm.OLS(y, x).fit()\n",
    "\n",
    "# Resultados\n",
    "print(model.summary())"
   ]
  },
  {
   "cell_type": "markdown",
   "metadata": {},
   "source": [
    "* Com a substituição dos valores faltantes pela mediana, obtivemos um erro quadrático médio de 0.61, sendo considerado um valor razoável de 'spread' de dispersão. Já o R², chegamos no valor de 0.149, sugerindo que a variável 'tempo_emprego' não é um bom preditor para a variável 'renda'.  "
   ]
  },
  {
   "cell_type": "code",
   "execution_count": 102,
   "metadata": {},
   "outputs": [
    {
     "name": "stdout",
     "output_type": "stream",
     "text": [
      "Variáveis selecionadas: Index(['tempo_emprego'], dtype='object')\n"
     ]
    }
   ],
   "source": [
    "from sklearn.feature_selection import SelectKBest, f_classif\n",
    "from sklearn.preprocessing import StandardScaler\n",
    "\n",
    "# Escala os dados utiluzando StandardScaler\n",
    "scaler = StandardScaler()\n",
    "X_scaled = scaler.fit_transform(X)\n",
    "\n",
    "# Seleciona as melhores variáveis que melhoram a performance do modelo\n",
    "selector = SelectKBest(f_classif, k='all')\n",
    "X_selected = selector.fit_transform(X_scaled, y)\n",
    "\n",
    "# Mostra as features selecionadas\n",
    "print(\"Variáveis selecionadas:\", X.columns[selector.get_support(indices=True)])"
   ]
  },
  {
   "cell_type": "code",
   "execution_count": 104,
   "metadata": {},
   "outputs": [
    {
     "name": "stdout",
     "output_type": "stream",
     "text": [
      "Mean Squared Error: 0.6075181679614117\n",
      "R2 Score: 0.15275306349590034\n"
     ]
    }
   ],
   "source": [
    "from sklearn.metrics import mean_squared_error, r2_score\n",
    "\n",
    "# Treina um modelo de regressão linear com as variáveis selecionadas\n",
    "X_train_scaled = scaler.transform(X_train)\n",
    "X_test_scaled = scaler.transform(X_test)\n",
    "\n",
    "model = LinearRegression()\n",
    "model.fit(X_train_scaled[:, selector.get_support(indices=True)], y_train)\n",
    "\n",
    "# Previsões com os dados de teste\n",
    "y_pred = model.predict(X_test_scaled[:, selector.get_support(indices=True)])\n",
    "\n",
    "# Performance do modelo\n",
    "mse = mean_squared_error(y_test, y_pred)\n",
    "r2 = r2_score(y_test, y_pred)\n",
    "\n",
    "print(\"Mean Squared Error:\", mse)\n",
    "print(\"R2 Score:\", r2)"
   ]
  },
  {
   "cell_type": "markdown",
   "metadata": {},
   "source": [
    "* Nesse ponto, o modelo apresentou um R² maior do que o anterior, sendo melhor e mais assertivo. Porém, ainda não é um bom parâmetro de previsibilidade."
   ]
  },
  {
   "cell_type": "code",
   "execution_count": 106,
   "metadata": {},
   "outputs": [
    {
     "name": "stdout",
     "output_type": "stream",
     "text": [
      "Coeficientes do modelo:\n",
      "[0.39680485]\n"
     ]
    }
   ],
   "source": [
    "# Interpreta os resultados, considerando a escala dos dados normalizados\n",
    "print(\"Coeficientes do modelo:\")\n",
    "print(model.coef_)"
   ]
  },
  {
   "cell_type": "code",
   "execution_count": null,
   "metadata": {},
   "outputs": [],
   "source": []
  }
 ],
 "metadata": {
  "kernelspec": {
   "display_name": "Python 3 (ipykernel)",
   "language": "python",
   "name": "python3"
  },
  "language_info": {
   "codemirror_mode": {
    "name": "ipython",
    "version": 3
   },
   "file_extension": ".py",
   "mimetype": "text/x-python",
   "name": "python",
   "nbconvert_exporter": "python",
   "pygments_lexer": "ipython3",
   "version": "3.11.7"
  }
 },
 "nbformat": 4,
 "nbformat_minor": 4
}
